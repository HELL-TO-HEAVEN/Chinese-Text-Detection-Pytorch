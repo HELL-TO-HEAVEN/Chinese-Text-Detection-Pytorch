{
 "cells": [
  {
   "cell_type": "code",
   "execution_count": 9,
   "metadata": {},
   "outputs": [],
   "source": [
    "import numpy as np\n",
    "import sys\n",
    "import os\n",
    "import cv2\n",
    "from PIL import Image\n",
    "import matplotlib.pyplot as plt\n",
    "from bbox_toolbox import poly2bbox\n",
    "import csv\n",
    "from tqdm import tqdm\n",
    "import json\n",
    "import pandas as pd\n",
    "def darknet_format_anno(src,save_location,threshold=0.005):\n",
    "    classes = {}\n",
    "    abandon_class = {}\n",
    "    with open(src,\"r+\") as f:\n",
    "        annos = f.readlines()\n",
    "    os.makedirs(save_location,exist_ok=True)\n",
    "    for anno in tqdm(annos):\n",
    "        anno = json.loads(anno)\n",
    "        img_id = anno[\"image_id\"]\n",
    "        ignored = anno[\"ignore\"]\n",
    "        file_name = anno[\"file_name\"]\n",
    "        bboxes = []\n",
    "        fname = os.path.join(save_location,img_id) + \".txt\"\n",
    "\n",
    "        for text in anno[\"annotations\"]:\n",
    "            for character in text:\n",
    "                c_true = character[\"is_chinese\"]\n",
    "                x_c,y_c,w,h = poly2bbox(character[\"polygon\"], 2048)\n",
    "                \n",
    "                if x_c > 1 or y_c > 1 or w < threshold or h < threshold:\n",
    "                    continue\n",
    "                if not c_true:\n",
    "                    continue\n",
    "                else:\n",
    "                    cls = 0\n",
    "                    bboxes.append([cls,x_c,y_c,w,h])\n",
    "        with open(fname,\"w\",newline=\"\") as f:\n",
    "            w = csv.writer(f,delimiter=' ')\n",
    "            for b in bboxes:\n",
    "                w.writerow(b)\n",
    "\n",
    "def darknet_format_txt(src,img_location,txt_name):\n",
    "    \n",
    "    files = os.listdir(img_location)\n",
    "    imgs = []\n",
    "    classes = []\n",
    "    with open(src,\"r+\") as f:\n",
    "        annos = f.readlines()\n",
    "\n",
    "    for anno in tqdm(annos):\n",
    "        anno = json.loads(anno)\n",
    "        img_id = anno[\"image_id\"]\n",
    "        ignored = anno[\"ignore\"]\n",
    "        file_name = anno[\"file_name\"]\n",
    "        imgs.append(file_name)\n",
    "    qualified = [x for x in files if x in imgs]\n",
    "    qualified = [os.path.join(img_location,x) for x in qualified]\n",
    "\n",
    "    with open(txt_name,\"a+\") as f:\n",
    "        for line in qualified:\n",
    "            f.write(line+\"\\n\")\n",
    "            \n",
    "\n",
    "def draw_bbox_test(img,bbox):\n",
    "    fig,ax = plt.subplots(1,figsize=(15,15))\n",
    "    ax.imshow(p)\n",
    "    x,y,w,h = bbox\n",
    "    rect = patches.Rectangle((x*2048,y*2048),w*2048,h*2048,linewidth=1,edgecolor='r',facecolor='none')\n",
    "    ax.add_patch(rect)\n",
    "    plt.show()"
   ]
  },
  {
   "cell_type": "code",
   "execution_count": 8,
   "metadata": {},
   "outputs": [
    {
     "name": "stderr",
     "output_type": "stream",
     "text": [
      "100%|██████████| 24290/24290 [00:44<00:00, 547.09it/s]\n",
      "100%|██████████| 1597/1597 [00:03<00:00, 505.05it/s]\n",
      "100%|██████████| 24290/24290 [00:05<00:00, 4562.08it/s]\n",
      "100%|██████████| 1597/1597 [00:00<00:00, 4497.49it/s]\n"
     ]
    }
   ],
   "source": [
    "train_src = \"annotations/train.jsonl\" \n",
    "valid_src = \"annotations/val.jsonl\"\n",
    "train_bbox_save = \"/home/jovyan/EJ/ctw_data/trainval/labels\"\n",
    "train_img = \"/home/jovyan/EJ/ctw_data/trainval/images\"\n",
    "val_image = \"/home/jovyan/EJ/ctw_data/trainval/images\"\n",
    "train_text = \"ctw_train.txt\"\n",
    "val_text = \"ctw_val.txt\"\n",
    "threshold = 0.008\n",
    "\n",
    "darknet_format_anno(train_src,train_bbox_save)\n",
    "darknet_format_anno(valid_src,train_bbox_save)\n",
    "darknet_format_txt(train_src,train_img,train_text)\n",
    "darknet_format_txt(valid_src,val_image,val_text)"
   ]
  },
  {
   "cell_type": "code",
   "execution_count": 5,
   "metadata": {},
   "outputs": [],
   "source": [
    "# train_src = \"annotations/test_cls.jsonl\" \n",
    "# train_bbox_save = \"/home/jovyan/EJ/ctw_data/test/labels\"\n",
    "# train_img = \"/home/jovyan/EJ/ctw_data/test/images\"\n",
    "# test_text = \"ctw_test.txt\"\n",
    "# threshold = 0.008\n",
    "\n",
    "# darknet_format_anno(train_src,train_bbox_save)\n",
    "\n",
    "# darknet_format_txt(train_src,train_img,train_text)\n"
   ]
  },
  {
   "cell_type": "code",
   "execution_count": 15,
   "metadata": {},
   "outputs": [],
   "source": []
  },
  {
   "cell_type": "code",
   "execution_count": 17,
   "metadata": {},
   "outputs": [
    {
     "name": "stdout",
     "output_type": "stream",
     "text": [
      "True\n"
     ]
    }
   ],
   "source": []
  },
  {
   "cell_type": "code",
   "execution_count": null,
   "metadata": {},
   "outputs": [],
   "source": []
  }
 ],
 "metadata": {
  "kernelspec": {
   "display_name": "Python 3",
   "language": "python",
   "name": "python3"
  },
  "language_info": {
   "codemirror_mode": {
    "name": "ipython",
    "version": 3
   },
   "file_extension": ".py",
   "mimetype": "text/x-python",
   "name": "python",
   "nbconvert_exporter": "python",
   "pygments_lexer": "ipython3",
   "version": "3.6.6"
  }
 },
 "nbformat": 4,
 "nbformat_minor": 2
}
