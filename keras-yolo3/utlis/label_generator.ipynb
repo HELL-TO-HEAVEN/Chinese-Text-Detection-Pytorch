{
 "cells": [
  {
   "cell_type": "code",
   "execution_count": 1,
   "metadata": {},
   "outputs": [],
   "source": [
    "from preprocessing import *"
   ]
  },
  {
   "cell_type": "code",
   "execution_count": 2,
   "metadata": {},
   "outputs": [
    {
     "name": "stderr",
     "output_type": "stream",
     "text": [
      "100%|██████████| 24290/24290 [00:52<00:00, 458.98it/s]\n"
     ]
    }
   ],
   "source": [
    "train_src = \"/home/jovyan/EJ/CTW-Pytorch/annotations/train.jsonl\" \n",
    "valid_src = \"/home/jovyan/EJ/CTW-Pytorch/annotations/val.jsonl\"\n",
    "name = \"/home/jovyan/EJ/CTW-Pytorch/Y3/data/ctw1000.names\"\n",
    "bbox_save = \"/home/jovyan/EJ/CTW-Pytorch/ctw_data/trainval/labels\"\n",
    "train_img = \"/home/jovyan/EJ/CTW-Pytorch/ctw_data/trainval/images\"\n",
    "val_image = \"/home/jovyan/EJ/CTW-Pytorch/ctw_data/trainval/images\"\n",
    "train_text = \"train1000.txt\"\n",
    "val_text = \"val1000.txt\"\n",
    "threshold = 0.001\n",
    "\n",
    "# darknet_format_anno(train_src,name,bbox_save,threshold)\n",
    "# darknet_format_anno(valid_src,name,bbox_save,threshold)\n",
    "# darknet_format_txt(train_src,name,train_img,train_text)\n",
    "# darknet_format_txt(valid_src,name,val_image,val_text)\n",
    "# darknet_format_anno_keras(train_src,name,train_img,threshold)\n",
    "darknet_format_anno_keras(val_src,name,train_img,threshold)\n"
   ]
  },
  {
   "cell_type": "code",
   "execution_count": null,
   "metadata": {},
   "outputs": [],
   "source": []
  }
 ],
 "metadata": {
  "kernelspec": {
   "display_name": "Python 3",
   "language": "python",
   "name": "python3"
  },
  "language_info": {
   "codemirror_mode": {
    "name": "ipython",
    "version": 3
   },
   "file_extension": ".py",
   "mimetype": "text/x-python",
   "name": "python",
   "nbconvert_exporter": "python",
   "pygments_lexer": "ipython3",
   "version": "3.6.6"
  }
 },
 "nbformat": 4,
 "nbformat_minor": 2
}
