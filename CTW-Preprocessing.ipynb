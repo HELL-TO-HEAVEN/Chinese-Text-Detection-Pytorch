{
 "cells": [
  {
   "cell_type": "code",
   "execution_count": null,
   "metadata": {},
   "outputs": [],
   "source": [
    "from __future__ import division\n",
    "\n",
    "import collections\n",
    "import matplotlib.patches as patches\n",
    "import matplotlib.pyplot as plt\n",
    "\n",
    "%matplotlib inline\n",
    "\n",
    "def poly2bbox(poly):\n",
    "    key_points = list()\n",
    "    rotated = collections.deque(poly)\n",
    "    rotated.rotate(1)\n",
    "    for (x0, y0), (x1, y1) in zip(poly, rotated):\n",
    "        for ratio in (1/3, 2/3):\n",
    "            key_points.append((x0 * ratio + x1 * (1 - ratio), y0 * ratio + y1 * (1 - ratio)))\n",
    "    x, y = zip(*key_points)\n",
    "    adjusted_bbox = (min(x), min(y), max(x) - min(x), max(y) - min(y))\n",
    "    return key_points, adjusted_bbox\n",
    "\n",
    "polygons = [\n",
    "    [[2, 1], [11, 2], [12, 18], [3, 16]],\n",
    "    [[21, 1], [30, 5], [31, 19], [22, 14]],\n",
    "]\n",
    "\n",
    "plt.figure(figsize=(10, 6))\n",
    "plt.xlim(0, 35)\n",
    "plt.ylim(0, 20)\n",
    "ax = plt.gca()\n",
    "for polygon in polygons:\n",
    "    color = (0, 1, 0)\n",
    "    ax.add_patch(patches.Polygon(polygon, fill=False, color=(0, 1, 0)))\n",
    "    key_points, adjusted_bbox = poly2bbox(polygon)\n",
    "    ax.add_patch(patches.Rectangle(adjusted_bbox[:2], *adjusted_bbox[2:], fill=False, color=(0, 0, 1)))\n",
    "    for kp in key_points:\n",
    "        ax.add_patch(patches.Circle(kp, radius=0.1, fill=True, color=(1, 0, 0)))\n",
    "plt.show()"
   ]
  }
 ],
 "metadata": {
  "kernelspec": {
   "display_name": "Python 3",
   "language": "python",
   "name": "python3"
  },
  "language_info": {
   "codemirror_mode": {
    "name": "ipython",
    "version": 3
   },
   "file_extension": ".py",
   "mimetype": "text/x-python",
   "name": "python",
   "nbconvert_exporter": "python",
   "pygments_lexer": "ipython3",
   "version": "3.6.7"
  }
 },
 "nbformat": 4,
 "nbformat_minor": 2
}
